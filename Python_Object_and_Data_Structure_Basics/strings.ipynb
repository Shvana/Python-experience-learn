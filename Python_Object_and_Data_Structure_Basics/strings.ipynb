{
 "cells": [
  {
   "cell_type": "markdown",
   "metadata": {},
   "source": [
    "# Strings"
   ]
  },
  {
   "cell_type": "markdown",
   "metadata": {},
   "source": [
    "1. Strings are sequences of characters, using the syntax of either singles quotes or double quotes:\n",
    "    - **'hello'**\n",
    "    - **\"Hello\"**\n",
    "    - **\"I don't do that\"**\n",
    "    \n",
    "\n",
    "2. Because strings are **ordered sequences** it means we can using **indexing** and **slicing** to grab sub-sections of the string.\n",
    "\n",
    "\n",
    "3. Indexing notation uses [] notation after the string (or variable assigned the string).\n",
    "\n",
    "\n",
    "4. Indexing allows you to grab a single character from the string...\n",
    "\n",
    "\n",
    "5. These actions use [] square brackets and number index to indicate positions of what you wish to grab.\n",
    "\n",
    "| Character | Index | Reverse Index | \n",
    "| :-------- | :---: | :------------:|\n",
    "|    h      |   0   |       0       |\n",
    "|    e      |   1   |      -4       |\n",
    "|    l      |   2   |      -3       |\n",
    "|    l      |   3   |      -2       |\n",
    "|    o      |   4   |      -1       |\n",
    "\n",
    "\n",
    "6. Slicing allows you to grab a subsection of multiple characters, a \"slice\" of the string.\n",
    "\n",
    "\n",
    "7. This has the following syntax:\n",
    "    - **[start:stop:step]**\n",
    "    \n",
    "\n",
    "8. **start** is a numerical index for the slice start.\n",
    "\n",
    "\n",
    "9. **stop** is the index you will go up to (but not include).\n",
    "\n",
    "\n",
    "10. **step** is the size of the \"jump\" you take."
   ]
  },
  {
   "cell_type": "code",
   "execution_count": 1,
   "metadata": {},
   "outputs": [
    {
     "data": {
      "text/plain": [
       "'hello'"
      ]
     },
     "execution_count": 1,
     "metadata": {},
     "output_type": "execute_result"
    }
   ],
   "source": [
    "'hello'"
   ]
  },
  {
   "cell_type": "code",
   "execution_count": 2,
   "metadata": {},
   "outputs": [
    {
     "data": {
      "text/plain": [
       "'hello'"
      ]
     },
     "execution_count": 2,
     "metadata": {},
     "output_type": "execute_result"
    }
   ],
   "source": [
    "'hello'"
   ]
  },
  {
   "cell_type": "code",
   "execution_count": 3,
   "metadata": {},
   "outputs": [
    {
     "data": {
      "text/plain": [
       "'Hello World'"
      ]
     },
     "execution_count": 3,
     "metadata": {},
     "output_type": "execute_result"
    }
   ],
   "source": [
    "\"Hello World\""
   ]
  },
  {
   "cell_type": "code",
   "execution_count": 4,
   "metadata": {},
   "outputs": [
    {
     "data": {
      "text/plain": [
       "'this is a string'"
      ]
     },
     "execution_count": 4,
     "metadata": {},
     "output_type": "execute_result"
    }
   ],
   "source": [
    "'this is a string'"
   ]
  },
  {
   "cell_type": "code",
   "execution_count": 5,
   "metadata": {},
   "outputs": [
    {
     "data": {
      "text/plain": [
       "\"I'm going on a run\""
      ]
     },
     "execution_count": 5,
     "metadata": {},
     "output_type": "execute_result"
    }
   ],
   "source": [
    "\"I'm going on a run\""
   ]
  },
  {
   "cell_type": "code",
   "execution_count": 6,
   "metadata": {},
   "outputs": [
    {
     "name": "stdout",
     "output_type": "stream",
     "text": [
      "Helo\n"
     ]
    }
   ],
   "source": [
    "print (\"Helo\")"
   ]
  },
  {
   "cell_type": "code",
   "execution_count": 8,
   "metadata": {},
   "outputs": [
    {
     "name": "stdout",
     "output_type": "stream",
     "text": [
      "hello world 1\n",
      "hello world 2\n"
     ]
    }
   ],
   "source": [
    "print(\"hello world 1\")\n",
    "print(\"hello world 2\")"
   ]
  },
  {
   "cell_type": "code",
   "execution_count": 10,
   "metadata": {},
   "outputs": [
    {
     "name": "stdout",
     "output_type": "stream",
     "text": [
      "Hell \n",
      "world\n"
     ]
    }
   ],
   "source": [
    "print (\"Hell \\nworld\")"
   ]
  },
  {
   "cell_type": "code",
   "execution_count": 11,
   "metadata": {},
   "outputs": [
    {
     "name": "stdout",
     "output_type": "stream",
     "text": [
      "Hell \tworld\n"
     ]
    }
   ],
   "source": [
    "print (\"Hell \\tworld\")"
   ]
  },
  {
   "cell_type": "code",
   "execution_count": 12,
   "metadata": {},
   "outputs": [
    {
     "data": {
      "text/plain": [
       "5"
      ]
     },
     "execution_count": 12,
     "metadata": {},
     "output_type": "execute_result"
    }
   ],
   "source": [
    "len(\"hello\")"
   ]
  },
  {
   "cell_type": "code",
   "execution_count": 14,
   "metadata": {},
   "outputs": [
    {
     "data": {
      "text/plain": [
       "4"
      ]
     },
     "execution_count": 14,
     "metadata": {},
     "output_type": "execute_result"
    }
   ],
   "source": [
    "len('I am')"
   ]
  },
  {
   "cell_type": "code",
   "execution_count": null,
   "metadata": {},
   "outputs": [],
   "source": []
  }
 ],
 "metadata": {
  "kernelspec": {
   "display_name": "Python 3",
   "language": "python",
   "name": "python3"
  },
  "language_info": {
   "codemirror_mode": {
    "name": "ipython",
    "version": 3
   },
   "file_extension": ".py",
   "mimetype": "text/x-python",
   "name": "python",
   "nbconvert_exporter": "python",
   "pygments_lexer": "ipython3",
   "version": "3.6.8"
  }
 },
 "nbformat": 4,
 "nbformat_minor": 2
}
